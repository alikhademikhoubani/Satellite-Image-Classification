{
 "cells": [
  {
   "cell_type": "code",
   "execution_count": 211,
   "id": "16b7e60d-a9fa-44f3-af2d-181da672c832",
   "metadata": {},
   "outputs": [],
   "source": [
    "import os \n",
    "import PIL\n",
    "import pathlib\n",
    "import numpy as np\n",
    "import cv2\n",
    "from sklearn.model_selection import train_test_split\n",
    "import tensorflow as tf\n",
    "from tensorflow import keras \n",
    "from tensorflow.keras import layers\n",
    "from tensorflow.keras.models import Sequential\n",
    "from sklearn.metrics import classification_report,confusion_matrix\n",
    "import seaborn as sns\n",
    "import matplotlib.pyplot as plt"
   ]
  },
  {
   "cell_type": "code",
   "execution_count": 150,
   "id": "e6cc1a60-d32e-4acb-9e2b-635e0a79a7d8",
   "metadata": {},
   "outputs": [],
   "source": [
    "root='E:\\Ali\\Machine Learning\\Datasets\\Image Datasets'"
   ]
  },
  {
   "cell_type": "code",
   "execution_count": 151,
   "id": "7cf8cb2b-3354-46f6-b17c-62afcdd6428d",
   "metadata": {},
   "outputs": [
    {
     "data": {
      "text/plain": [
       "['Alzheimer_s Dataset',\n",
       " 'archive.zip',\n",
       " 'Brain Tumor Classification 1',\n",
       " 'Brain Tumor Classification 2',\n",
       " 'Cat & Dog',\n",
       " 'Covid19_data',\n",
       " 'Dataset_BUSI_with_GT',\n",
       " 'flower_photos',\n",
       " 'Fruits Images',\n",
       " 'Garbage_classification',\n",
       " \"Pet's Facial Impression Image Dataset\",\n",
       " \"Pet's Images\",\n",
       " 'Sattelite Image Classification',\n",
       " 'Smoker Detection',\n",
       " 'Traffic Signs',\n",
       " 'Weather Classification']"
      ]
     },
     "execution_count": 151,
     "metadata": {},
     "output_type": "execute_result"
    }
   ],
   "source": [
    "files=os.listdir(root)\n",
    "files"
   ]
  },
  {
   "cell_type": "code",
   "execution_count": 152,
   "id": "25761254-71af-41b8-97e7-ff25dc629ad8",
   "metadata": {},
   "outputs": [
    {
     "data": {
      "text/plain": [
       "'Sattelite Image Classification'"
      ]
     },
     "execution_count": 152,
     "metadata": {},
     "output_type": "execute_result"
    }
   ],
   "source": [
    "files[12]"
   ]
  },
  {
   "cell_type": "code",
   "execution_count": 153,
   "id": "ccbfb935-352e-4280-abd3-06fb8cdf449d",
   "metadata": {},
   "outputs": [
    {
     "data": {
      "text/plain": [
       "'E:\\\\Ali\\\\Machine Learning\\\\Datasets\\\\Image Datasets\\\\Sattelite Image Classification'"
      ]
     },
     "execution_count": 153,
     "metadata": {},
     "output_type": "execute_result"
    }
   ],
   "source": [
    "data_dir=os.path.join(root,files[12])\n",
    "data_dir"
   ]
  },
  {
   "cell_type": "code",
   "execution_count": 154,
   "id": "303d713e-edea-459a-a8aa-c4a7b77c07ba",
   "metadata": {},
   "outputs": [
    {
     "data": {
      "text/plain": [
       "WindowsPath('E:/Ali/Machine Learning/Datasets/Image Datasets/Sattelite Image Classification')"
      ]
     },
     "execution_count": 154,
     "metadata": {},
     "output_type": "execute_result"
    }
   ],
   "source": [
    "data_dir=pathlib.Path(data_dir)\n",
    "data_dir"
   ]
  },
  {
   "cell_type": "code",
   "execution_count": 155,
   "id": "66d8b962-9ef2-4bc7-bbac-0092e83972ff",
   "metadata": {},
   "outputs": [
    {
     "data": {
      "text/plain": [
       "[WindowsPath('E:/Ali/Machine Learning/Datasets/Image Datasets/Sattelite Image Classification/cloudy/train_10021.jpg'),\n",
       " WindowsPath('E:/Ali/Machine Learning/Datasets/Image Datasets/Sattelite Image Classification/cloudy/train_10043.jpg'),\n",
       " WindowsPath('E:/Ali/Machine Learning/Datasets/Image Datasets/Sattelite Image Classification/cloudy/train_10070.jpg'),\n",
       " WindowsPath('E:/Ali/Machine Learning/Datasets/Image Datasets/Sattelite Image Classification/cloudy/train_10081.jpg'),\n",
       " WindowsPath('E:/Ali/Machine Learning/Datasets/Image Datasets/Sattelite Image Classification/cloudy/train_10096.jpg')]"
      ]
     },
     "execution_count": 155,
     "metadata": {},
     "output_type": "execute_result"
    }
   ],
   "source": [
    "list(data_dir.glob('*/*.jpg'))[:5]"
   ]
  },
  {
   "cell_type": "code",
   "execution_count": 156,
   "id": "1a247e25-41aa-49bb-bded-5ac2de866ee6",
   "metadata": {},
   "outputs": [
    {
     "data": {
      "text/plain": [
       "3200"
      ]
     },
     "execution_count": 156,
     "metadata": {},
     "output_type": "execute_result"
    }
   ],
   "source": [
    "len(list(data_dir.glob('*/*.jpg')))"
   ]
  },
  {
   "cell_type": "code",
   "execution_count": 157,
   "id": "95c8acc5-b983-467a-a4f3-e0903093202e",
   "metadata": {},
   "outputs": [
    {
     "data": {
      "text/plain": [
       "['cloudy', 'desert', 'green_area', 'water']"
      ]
     },
     "execution_count": 157,
     "metadata": {},
     "output_type": "execute_result"
    }
   ],
   "source": [
    "os.listdir(data_dir)"
   ]
  },
  {
   "cell_type": "code",
   "execution_count": 158,
   "id": "ea42c057-9304-453c-9f1a-dce8c448bddb",
   "metadata": {},
   "outputs": [
    {
     "data": {
      "text/plain": [
       "[WindowsPath('E:/Ali/Machine Learning/Datasets/Image Datasets/Sattelite Image Classification/cloudy/train_10021.jpg'),\n",
       " WindowsPath('E:/Ali/Machine Learning/Datasets/Image Datasets/Sattelite Image Classification/cloudy/train_10043.jpg'),\n",
       " WindowsPath('E:/Ali/Machine Learning/Datasets/Image Datasets/Sattelite Image Classification/cloudy/train_10070.jpg'),\n",
       " WindowsPath('E:/Ali/Machine Learning/Datasets/Image Datasets/Sattelite Image Classification/cloudy/train_10081.jpg'),\n",
       " WindowsPath('E:/Ali/Machine Learning/Datasets/Image Datasets/Sattelite Image Classification/cloudy/train_10096.jpg')]"
      ]
     },
     "execution_count": 158,
     "metadata": {},
     "output_type": "execute_result"
    }
   ],
   "source": [
    "list(data_dir.glob('cloudy/*'))[:5]"
   ]
  },
  {
   "cell_type": "code",
   "execution_count": 159,
   "id": "129c9d5b-5a14-4d34-8819-60d5ad154ba3",
   "metadata": {},
   "outputs": [
    {
     "data": {
      "text/plain": [
       "[WindowsPath('E:/Ali/Machine Learning/Datasets/Image Datasets/Sattelite Image Classification/desert/desert(1).jpg'),\n",
       " WindowsPath('E:/Ali/Machine Learning/Datasets/Image Datasets/Sattelite Image Classification/desert/desert(10).jpg'),\n",
       " WindowsPath('E:/Ali/Machine Learning/Datasets/Image Datasets/Sattelite Image Classification/desert/desert(100).jpg'),\n",
       " WindowsPath('E:/Ali/Machine Learning/Datasets/Image Datasets/Sattelite Image Classification/desert/desert(101) (1).jpg'),\n",
       " WindowsPath('E:/Ali/Machine Learning/Datasets/Image Datasets/Sattelite Image Classification/desert/desert(101).jpg')]"
      ]
     },
     "execution_count": 159,
     "metadata": {},
     "output_type": "execute_result"
    }
   ],
   "source": [
    "list(data_dir.glob('desert/*'))[:5]"
   ]
  },
  {
   "cell_type": "code",
   "execution_count": 160,
   "id": "8568c202-1869-4237-8705-bbc364415aa8",
   "metadata": {},
   "outputs": [
    {
     "data": {
      "text/plain": [
       "[WindowsPath('E:/Ali/Machine Learning/Datasets/Image Datasets/Sattelite Image Classification/green_area/Forest_163.jpg'),\n",
       " WindowsPath('E:/Ali/Machine Learning/Datasets/Image Datasets/Sattelite Image Classification/green_area/Forest_164.jpg'),\n",
       " WindowsPath('E:/Ali/Machine Learning/Datasets/Image Datasets/Sattelite Image Classification/green_area/Forest_165.jpg'),\n",
       " WindowsPath('E:/Ali/Machine Learning/Datasets/Image Datasets/Sattelite Image Classification/green_area/Forest_188.jpg'),\n",
       " WindowsPath('E:/Ali/Machine Learning/Datasets/Image Datasets/Sattelite Image Classification/green_area/Forest_194.jpg')]"
      ]
     },
     "execution_count": 160,
     "metadata": {},
     "output_type": "execute_result"
    }
   ],
   "source": [
    "list(data_dir.glob('green_area/*'))[:5]"
   ]
  },
  {
   "cell_type": "code",
   "execution_count": 161,
   "id": "4e593ea6-27d1-4d79-b840-7ff3c65823c9",
   "metadata": {},
   "outputs": [
    {
     "data": {
      "text/plain": [
       "[WindowsPath('E:/Ali/Machine Learning/Datasets/Image Datasets/Sattelite Image Classification/water/SeaLake_1.jpg'),\n",
       " WindowsPath('E:/Ali/Machine Learning/Datasets/Image Datasets/Sattelite Image Classification/water/SeaLake_1004.jpg'),\n",
       " WindowsPath('E:/Ali/Machine Learning/Datasets/Image Datasets/Sattelite Image Classification/water/SeaLake_1006.jpg'),\n",
       " WindowsPath('E:/Ali/Machine Learning/Datasets/Image Datasets/Sattelite Image Classification/water/SeaLake_1009.jpg'),\n",
       " WindowsPath('E:/Ali/Machine Learning/Datasets/Image Datasets/Sattelite Image Classification/water/SeaLake_101.jpg')]"
      ]
     },
     "execution_count": 161,
     "metadata": {},
     "output_type": "execute_result"
    }
   ],
   "source": [
    "list(data_dir.glob('water/*'))[:5]"
   ]
  },
  {
   "cell_type": "code",
   "execution_count": 162,
   "id": "7a1e93ec-6c65-47bb-913d-fe6e474a6314",
   "metadata": {},
   "outputs": [
    {
     "data": {
      "text/plain": [
       "800"
      ]
     },
     "execution_count": 162,
     "metadata": {},
     "output_type": "execute_result"
    }
   ],
   "source": [
    "len(list(data_dir.glob('cloudy/*.jpg')))"
   ]
  },
  {
   "cell_type": "code",
   "execution_count": 163,
   "id": "6a6ad565-5424-4071-ad1a-ee1ebab5d844",
   "metadata": {},
   "outputs": [
    {
     "data": {
      "text/plain": [
       "800"
      ]
     },
     "execution_count": 163,
     "metadata": {},
     "output_type": "execute_result"
    }
   ],
   "source": [
    "len(list(data_dir.glob('desert/*.jpg')))"
   ]
  },
  {
   "cell_type": "code",
   "execution_count": 164,
   "id": "eb4e3464-4bdd-4374-8f9f-74bc4b1d9199",
   "metadata": {},
   "outputs": [
    {
     "data": {
      "text/plain": [
       "800"
      ]
     },
     "execution_count": 164,
     "metadata": {},
     "output_type": "execute_result"
    }
   ],
   "source": [
    "len(list(data_dir.glob('green_area/*.jpg')))"
   ]
  },
  {
   "cell_type": "code",
   "execution_count": 165,
   "id": "8a207b30-2b9a-48b9-aceb-40f45d639484",
   "metadata": {},
   "outputs": [
    {
     "data": {
      "text/plain": [
       "800"
      ]
     },
     "execution_count": 165,
     "metadata": {},
     "output_type": "execute_result"
    }
   ],
   "source": [
    "len(list(data_dir.glob('water/*.jpg')))"
   ]
  },
  {
   "cell_type": "code",
   "execution_count": 166,
   "id": "39c70c57-54c0-489a-bede-00693c2dede6",
   "metadata": {},
   "outputs": [],
   "source": [
    "cloudy=list(data_dir.glob('cloudy/*.jpg'))\n",
    "desert=list(data_dir.glob('desert/*.jpg'))\n",
    "green_area=list(data_dir.glob('green_area/*.jpg'))\n",
    "water=list(data_dir.glob('water/*.jpg'))"
   ]
  },
  {
   "cell_type": "code",
   "execution_count": 167,
   "id": "eb9d2134-0f91-451b-81c3-91571ad90854",
   "metadata": {},
   "outputs": [
    {
     "data": {
      "image/png": "[encoded data removed]",
      "text/plain": [
       "<PIL.JpegImagePlugin.JpegImageFile image mode=RGB size=256x256>"
      ]
     },
     "execution_count": 167,
     "metadata": {},
     "output_type": "execute_result"
    }
   ],
   "source": [
    "PIL.Image.open(desert[0])"
   ]
  },
  {
   "cell_type": "code",
   "execution_count": 168,
   "id": "79ace57b-2887-4b05-8d0c-57ebd9c069d6",
   "metadata": {},
   "outputs": [
    {
     "data": {
      "image/png": "[encoded data removed]",
      "text/plain": [
       "<PIL.JpegImagePlugin.JpegImageFile image mode=RGB size=256x256>"
      ]
     },
     "execution_count": 168,
     "metadata": {},
     "output_type": "execute_result"
    }
   ],
   "source": [
    "PIL.Image.open(desert[1])"
   ]
  },
  {
   "cell_type": "code",
   "execution_count": 169,
   "id": "e6d46e62-7325-471e-8e8f-3a13ae761962",
   "metadata": {},
   "outputs": [
    {
     "data": {
      "image/png": "[encoded data removed]",
      "text/plain": [
       "<PIL.JpegImagePlugin.JpegImageFile image mode=RGB size=64x64>"
      ]
     },
     "execution_count": 169,
     "metadata": {},
     "output_type": "execute_result"
    }
   ],
   "source": [
    "PIL.Image.open(green_area[0])"
   ]
  },
  {
   "cell_type": "code",
   "execution_count": 170,
   "id": "3a8d1abd-8396-49c0-8bbc-a4240a41feb5",
   "metadata": {},
   "outputs": [
    {
     "data": {
      "image/png": "[encoded data removed]",
      "text/plain": [
       "<PIL.JpegImagePlugin.JpegImageFile image mode=RGB size=64x64>"
      ]
     },
     "execution_count": 170,
     "metadata": {},
     "output_type": "execute_result"
    }
   ],
   "source": [
    "PIL.Image.open(green_area[1])"
   ]
  },
  {
   "cell_type": "code",
   "execution_count": 171,
   "id": "18642241-c536-4e2a-8b96-06d16b949de4",
   "metadata": {},
   "outputs": [
    {
     "data": {
      "image/png": "[encoded data removed]",
      "text/plain": [
       "<PIL.JpegImagePlugin.JpegImageFile image mode=RGB size=64x64>"
      ]
     },
     "execution_count": 171,
     "metadata": {},
     "output_type": "execute_result"
    }
   ],
   "source": [
    "PIL.Image.open(water[0])"
   ]
  },
  {
   "cell_type": "code",
   "execution_count": 172,
   "id": "811f1814-1702-43b1-a604-09aff01dc06e",
   "metadata": {},
   "outputs": [
    {
     "data": {
      "image/png": "[encoded data removed]",
      "text/plain": [
       "<PIL.JpegImagePlugin.JpegImageFile image mode=RGB size=64x64>"
      ]
     },
     "execution_count": 172,
     "metadata": {},
     "output_type": "execute_result"
    }
   ],
   "source": [
    "PIL.Image.open(water[1])"
   ]
  },
  {
   "cell_type": "code",
   "execution_count": 173,
   "id": "232d90c2-471e-4146-af45-cc0899540967",
   "metadata": {},
   "outputs": [
    {
     "data": {
      "text/plain": [
       "'E:\\\\Ali\\\\Machine Learning\\\\Datasets\\\\Image Datasets\\\\Sattelite Image Classification\\\\cloudy\\\\train_10021.jpg'"
      ]
     },
     "execution_count": 173,
     "metadata": {},
     "output_type": "execute_result"
    }
   ],
   "source": [
    "str(cloudy[0])"
   ]
  },
  {
   "cell_type": "code",
   "execution_count": 174,
   "id": "d280f068-f495-471a-adcc-4385c79d45b4",
   "metadata": {},
   "outputs": [
    {
     "data": {
      "text/plain": [
       "['E:',\n",
       " 'Ali',\n",
       " 'Machine Learning',\n",
       " 'Datasets',\n",
       " 'Image Datasets',\n",
       " 'Sattelite Image Classification',\n",
       " 'cloudy',\n",
       " 'train_10021.jpg']"
      ]
     },
     "execution_count": 174,
     "metadata": {},
     "output_type": "execute_result"
    }
   ],
   "source": [
    "str(cloudy[0]).split('\\\\')"
   ]
  },
  {
   "cell_type": "code",
   "execution_count": 175,
   "id": "a746657b-d765-4cbc-8e61-5a222cd2d3b6",
   "metadata": {},
   "outputs": [
    {
     "data": {
      "text/plain": [
       "'cloudy'"
      ]
     },
     "execution_count": 175,
     "metadata": {},
     "output_type": "execute_result"
    }
   ],
   "source": [
    "str(cloudy[0]).split('\\\\')[-2]"
   ]
  },
  {
   "cell_type": "code",
   "execution_count": 176,
   "id": "d5331e52-3215-450c-a847-335c62d2b128",
   "metadata": {},
   "outputs": [],
   "source": [
    "X,y=[],[]\n",
    "\n",
    "for image in list(data_dir.glob('*/*.jpg')):\n",
    "    img=cv2.imread(str(image))\n",
    "    resized_img=cv2.resize(img,(150,150))\n",
    "    X.append(resized_img)\n",
    "    if str(image).split('\\\\')[-2]=='cloudy':\n",
    "        y.append(0)\n",
    "    elif str(image).split('\\\\')[-2]=='desert':\n",
    "        y.append(1)\n",
    "    elif str(image).split('\\\\')[-2]=='green_area':\n",
    "        y.append(2)\n",
    "    else:\n",
    "        y.append(3)"
   ]
  },
  {
   "cell_type": "code",
   "execution_count": 177,
   "id": "22217518-49df-434f-b929-886ebbc262c1",
   "metadata": {},
   "outputs": [
    {
     "data": {
      "text/plain": [
       "array([[[121, 145, 152],\n",
       "        [123, 149, 153],\n",
       "        [131, 154, 160],\n",
       "        ...,\n",
       "        [180, 200, 205],\n",
       "        [181, 201, 206],\n",
       "        [183, 202, 207]],\n",
       "\n",
       "       [[122, 147, 152],\n",
       "        [125, 150, 153],\n",
       "        [131, 155, 160],\n",
       "        ...,\n",
       "        [178, 198, 203],\n",
       "        [181, 200, 205],\n",
       "        [181, 201, 206]],\n",
       "\n",
       "       [[126, 149, 154],\n",
       "        [127, 152, 155],\n",
       "        [131, 155, 160],\n",
       "        ...,\n",
       "        [176, 196, 201],\n",
       "        [178, 198, 203],\n",
       "        [179, 198, 203]],\n",
       "\n",
       "       ...,\n",
       "\n",
       "       [[207, 206, 227],\n",
       "        [207, 206, 227],\n",
       "        [208, 206, 227],\n",
       "        ...,\n",
       "        [127, 153, 148],\n",
       "        [128, 154, 149],\n",
       "        [129, 154, 150]],\n",
       "\n",
       "       [[207, 206, 227],\n",
       "        [207, 206, 227],\n",
       "        [208, 206, 227],\n",
       "        ...,\n",
       "        [126, 152, 147],\n",
       "        [128, 153, 149],\n",
       "        [128, 153, 151]],\n",
       "\n",
       "       [[207, 206, 227],\n",
       "        [207, 206, 227],\n",
       "        [208, 206, 227],\n",
       "        ...,\n",
       "        [126, 152, 147],\n",
       "        [127, 153, 149],\n",
       "        [128, 153, 152]]], dtype=uint8)"
      ]
     },
     "execution_count": 177,
     "metadata": {},
     "output_type": "execute_result"
    }
   ],
   "source": [
    "X[0]"
   ]
  },
  {
   "cell_type": "code",
   "execution_count": 178,
   "id": "c3dade46-945c-4015-bbc2-d5f02cc27273",
   "metadata": {},
   "outputs": [
    {
     "data": {
      "text/plain": [
       "[0, 0, 0, 0, 0]"
      ]
     },
     "execution_count": 178,
     "metadata": {},
     "output_type": "execute_result"
    }
   ],
   "source": [
    "y[:5]"
   ]
  },
  {
   "cell_type": "code",
   "execution_count": 179,
   "id": "c4c790b3-18ff-4b85-81ef-e595df640550",
   "metadata": {},
   "outputs": [
    {
     "data": {
      "text/plain": [
       "[0, 0, 0, 0, 0, 1, 1, 1, 1, 1]"
      ]
     },
     "execution_count": 179,
     "metadata": {},
     "output_type": "execute_result"
    }
   ],
   "source": [
    "y[795:805]"
   ]
  },
  {
   "cell_type": "code",
   "execution_count": 180,
   "id": "6f514512-cc42-4ceb-a8f0-6ed5a2a28670",
   "metadata": {},
   "outputs": [
    {
     "data": {
      "text/plain": [
       "[1, 1, 1, 1, 1, 2, 2, 2, 2, 2]"
      ]
     },
     "execution_count": 180,
     "metadata": {},
     "output_type": "execute_result"
    }
   ],
   "source": [
    "y[1595:1605]"
   ]
  },
  {
   "cell_type": "code",
   "execution_count": 181,
   "id": "488c03b4-6fcf-4882-8690-db033bde2301",
   "metadata": {},
   "outputs": [
    {
     "data": {
      "text/plain": [
       "[2, 2, 2, 2, 2, 3, 3, 3, 3, 3]"
      ]
     },
     "execution_count": 181,
     "metadata": {},
     "output_type": "execute_result"
    }
   ],
   "source": [
    "y[2395:2405]"
   ]
  },
  {
   "cell_type": "code",
   "execution_count": 182,
   "id": "0c1c4a36-38dd-4b3b-81ea-eae7fe57291e",
   "metadata": {},
   "outputs": [
    {
     "data": {
      "text/plain": [
       "3200"
      ]
     },
     "execution_count": 182,
     "metadata": {},
     "output_type": "execute_result"
    }
   ],
   "source": [
    "len(X)"
   ]
  },
  {
   "cell_type": "code",
   "execution_count": 183,
   "id": "9ffef6b0-79d0-4f4c-88b6-e74252e51461",
   "metadata": {},
   "outputs": [
    {
     "data": {
      "text/plain": [
       "3200"
      ]
     },
     "execution_count": 183,
     "metadata": {},
     "output_type": "execute_result"
    }
   ],
   "source": [
    "len(y)"
   ]
  },
  {
   "cell_type": "code",
   "execution_count": 184,
   "id": "ff7bf164-a95a-4e11-8e42-02a8028fb007",
   "metadata": {},
   "outputs": [
    {
     "data": {
      "text/plain": [
       "(150, 150, 3)"
      ]
     },
     "execution_count": 184,
     "metadata": {},
     "output_type": "execute_result"
    }
   ],
   "source": [
    "X[0].shape"
   ]
  },
  {
   "cell_type": "code",
   "execution_count": 185,
   "id": "51151aad-6c55-4ff2-b713-a3f914b35192",
   "metadata": {},
   "outputs": [],
   "source": [
    "X_train,X_test,y_train,y_test=train_test_split(X,y,test_size=0.2,random_state=101,stratify=y)"
   ]
  },
  {
   "cell_type": "code",
   "execution_count": 186,
   "id": "3fd6e635-71b3-4f30-ad1a-14d85da613cd",
   "metadata": {},
   "outputs": [],
   "source": [
    "X_train=np.array(X_train)\n",
    "X_test=np.array(X_test)\n",
    "y_train=np.array(y_train)\n",
    "y_test=np.array(y_test)"
   ]
  },
  {
   "cell_type": "code",
   "execution_count": 187,
   "id": "54bff549-1964-4963-b436-a263affe156e",
   "metadata": {},
   "outputs": [
    {
     "data": {
      "text/plain": [
       "(2560, 150, 150, 3)"
      ]
     },
     "execution_count": 187,
     "metadata": {},
     "output_type": "execute_result"
    }
   ],
   "source": [
    "X_train.shape"
   ]
  },
  {
   "cell_type": "code",
   "execution_count": 188,
   "id": "fc5495c2-bc22-4ec7-af36-e300873f9159",
   "metadata": {},
   "outputs": [
    {
     "data": {
      "text/plain": [
       "(640, 150, 150, 3)"
      ]
     },
     "execution_count": 188,
     "metadata": {},
     "output_type": "execute_result"
    }
   ],
   "source": [
    "X_test.shape"
   ]
  },
  {
   "cell_type": "code",
   "execution_count": 189,
   "id": "134e7555-5c96-4222-b9d9-cc8b10f21430",
   "metadata": {},
   "outputs": [
    {
     "data": {
      "text/plain": [
       "(2560,)"
      ]
     },
     "execution_count": 189,
     "metadata": {},
     "output_type": "execute_result"
    }
   ],
   "source": [
    "y_train.shape"
   ]
  },
  {
   "cell_type": "code",
   "execution_count": 190,
   "id": "53b00515-f573-4f13-b1e9-57c4df799946",
   "metadata": {},
   "outputs": [
    {
     "data": {
      "text/plain": [
       "(640,)"
      ]
     },
     "execution_count": 190,
     "metadata": {},
     "output_type": "execute_result"
    }
   ],
   "source": [
    "y_test.shape"
   ]
  },
  {
   "cell_type": "code",
   "execution_count": 191,
   "id": "22a12da1-5e57-4ff9-9a95-8cf96ff4633a",
   "metadata": {},
   "outputs": [],
   "source": [
    "y_train=tf.keras.utils.to_categorical(y_train,num_classes=4)\n",
    "y_test=tf.keras.utils.to_categorical(y_test,num_classes=4)"
   ]
  },
  {
   "cell_type": "code",
   "execution_count": 192,
   "id": "58810238-afaa-4c30-9f04-8f7119b6a129",
   "metadata": {},
   "outputs": [
    {
     "data": {
      "text/plain": [
       "array([[0., 0., 1., 0.],\n",
       "       [0., 0., 0., 1.],\n",
       "       [0., 1., 0., 0.],\n",
       "       [0., 0., 1., 0.],\n",
       "       [1., 0., 0., 0.]], dtype=float32)"
      ]
     },
     "execution_count": 192,
     "metadata": {},
     "output_type": "execute_result"
    }
   ],
   "source": [
    "y_train[:5]"
   ]
  },
  {
   "cell_type": "code",
   "execution_count": 193,
   "id": "7afd2a7a-05a1-4235-a1d3-07ba2a5c3cfc",
   "metadata": {},
   "outputs": [
    {
     "name": "stdout",
     "output_type": "stream",
     "text": [
      "WARNING:tensorflow:Using a while_loop for converting RngReadAndSkip cause there is no registered converter for this op.\n",
      "WARNING:tensorflow:Using a while_loop for converting Bitcast cause there is no registered converter for this op.\n",
      "WARNING:tensorflow:Using a while_loop for converting Bitcast cause there is no registered converter for this op.\n",
      "WARNING:tensorflow:Using a while_loop for converting StatelessRandomUniformV2 cause there is no registered converter for this op.\n",
      "WARNING:tensorflow:Using a while_loop for converting ImageProjectiveTransformV3 cause there is no registered converter for this op.\n",
      "WARNING:tensorflow:Using a while_loop for converting RngReadAndSkip cause there is no registered converter for this op.\n",
      "WARNING:tensorflow:Using a while_loop for converting Bitcast cause there is no registered converter for this op.\n",
      "WARNING:tensorflow:Using a while_loop for converting Bitcast cause there is no registered converter for this op.\n",
      "WARNING:tensorflow:Using a while_loop for converting StatelessRandomUniformV2 cause there is no registered converter for this op.\n",
      "WARNING:tensorflow:Using a while_loop for converting ImageProjectiveTransformV3 cause there is no registered converter for this op.\n",
      "WARNING:tensorflow:Using a while_loop for converting RngReadAndSkip cause there is no registered converter for this op.\n",
      "WARNING:tensorflow:Using a while_loop for converting Bitcast cause there is no registered converter for this op.\n",
      "WARNING:tensorflow:Using a while_loop for converting Bitcast cause there is no registered converter for this op.\n",
      "WARNING:tensorflow:Using a while_loop for converting StatelessRandomUniformFullIntV2 cause there is no registered converter for this op.\n",
      "WARNING:tensorflow:Using a while_loop for converting StatelessRandomGetKeyCounter cause there is no registered converter for this op.\n",
      "WARNING:tensorflow:Using a while_loop for converting StatelessRandomUniformV2 cause there is no registered converter for this op.\n",
      "WARNING:tensorflow:Using a while_loop for converting AdjustContrastv2 cause Input \"contrast_factor\" of op 'AdjustContrastv2' expected to be loop invariant.\n"
     ]
    }
   ],
   "source": [
    "data_augmentation=Sequential([\n",
    "    layers.experimental.preprocessing.RandomFlip('horizontal',input_shape=(150,150,3)),\n",
    "    layers.experimental.preprocessing.RandomRotation(0.4),\n",
    "    layers.experimental.preprocessing.RandomZoom(0.4),\n",
    "    layers.experimental.preprocessing.RandomContrast(0.3)\n",
    "])"
   ]
  },
  {
   "cell_type": "code",
   "execution_count": 194,
   "id": "68f2867e-d3c9-46d5-9185-633de9afc4b6",
   "metadata": {},
   "outputs": [
    {
     "name": "stdout",
     "output_type": "stream",
     "text": [
      "WARNING:tensorflow:Using a while_loop for converting RngReadAndSkip cause there is no registered converter for this op.\n",
      "WARNING:tensorflow:Using a while_loop for converting Bitcast cause there is no registered converter for this op.\n",
      "WARNING:tensorflow:Using a while_loop for converting Bitcast cause there is no registered converter for this op.\n",
      "WARNING:tensorflow:Using a while_loop for converting StatelessRandomUniformV2 cause there is no registered converter for this op.\n",
      "WARNING:tensorflow:Using a while_loop for converting ImageProjectiveTransformV3 cause there is no registered converter for this op.\n",
      "WARNING:tensorflow:Using a while_loop for converting RngReadAndSkip cause there is no registered converter for this op.\n",
      "WARNING:tensorflow:Using a while_loop for converting Bitcast cause there is no registered converter for this op.\n",
      "WARNING:tensorflow:Using a while_loop for converting Bitcast cause there is no registered converter for this op.\n",
      "WARNING:tensorflow:Using a while_loop for converting StatelessRandomUniformV2 cause there is no registered converter for this op.\n",
      "WARNING:tensorflow:Using a while_loop for converting ImageProjectiveTransformV3 cause there is no registered converter for this op.\n",
      "WARNING:tensorflow:Using a while_loop for converting RngReadAndSkip cause there is no registered converter for this op.\n",
      "WARNING:tensorflow:Using a while_loop for converting Bitcast cause there is no registered converter for this op.\n",
      "WARNING:tensorflow:Using a while_loop for converting Bitcast cause there is no registered converter for this op.\n",
      "WARNING:tensorflow:Using a while_loop for converting StatelessRandomUniformFullIntV2 cause there is no registered converter for this op.\n",
      "WARNING:tensorflow:Using a while_loop for converting StatelessRandomGetKeyCounter cause there is no registered converter for this op.\n",
      "WARNING:tensorflow:Using a while_loop for converting StatelessRandomUniformV2 cause there is no registered converter for this op.\n",
      "WARNING:tensorflow:Using a while_loop for converting AdjustContrastv2 cause Input \"contrast_factor\" of op 'AdjustContrastv2' expected to be loop invariant.\n"
     ]
    }
   ],
   "source": [
    "model=Sequential([\n",
    "    data_augmentation,\n",
    "    layers.Conv2D(70,3,padding='same',activation='relu'),\n",
    "    layers.MaxPooling2D(),\n",
    "    layers.Conv2D(70,3,padding='same',activation='relu'),\n",
    "    layers.MaxPooling2D(),\n",
    "    layers.Conv2D(50,3,padding='same',activation='relu'),\n",
    "    layers.MaxPooling2D(),\n",
    "    layers.Conv2D(50,3,padding='same',activation='relu'),\n",
    "    layers.MaxPooling2D(),\n",
    "    layers.Conv2D(30,3,padding='same',activation='relu'),\n",
    "    layers.MaxPooling2D(),\n",
    "    layers.Flatten(),\n",
    "    layers.Dense(500,activation='relu'),\n",
    "    layers.Dense(300,activation='relu'),\n",
    "    layers.Dense(200,activation='relu'),\n",
    "    layers.Dense(4,activation='softmax')\n",
    "])"
   ]
  },
  {
   "cell_type": "code",
   "execution_count": 195,
   "id": "de419cb5-91d7-4722-b404-49e33a6875ad",
   "metadata": {},
   "outputs": [],
   "source": [
    "METRICS=[\n",
    "    tf.metrics.BinaryAccuracy(name='accuracy'),\n",
    "    tf.metrics.Precision(name='precision'),\n",
    "    tf.metrics.Recall(name='recall')\n",
    "]\n",
    "\n",
    "model.compile(optimizer='adam',\n",
    "              loss='categorical_crossentropy',\n",
    "              metrics=METRICS\n",
    "             )"
   ]
  },
  {
   "cell_type": "code",
   "execution_count": 196,
   "id": "debe062e-2039-4d54-8a8e-b3302fb1a413",
   "metadata": {},
   "outputs": [
    {
     "name": "stdout",
     "output_type": "stream",
     "text": [
      "Epoch 1/20\n",
      "WARNING:tensorflow:Using a while_loop for converting RngReadAndSkip cause there is no registered converter for this op.\n",
      "WARNING:tensorflow:Using a while_loop for converting Bitcast cause there is no registered converter for this op.\n",
      "WARNING:tensorflow:Using a while_loop for converting Bitcast cause there is no registered converter for this op.\n",
      "WARNING:tensorflow:Using a while_loop for converting StatelessRandomUniformV2 cause there is no registered converter for this op.\n",
      "WARNING:tensorflow:Using a while_loop for converting ImageProjectiveTransformV3 cause there is no registered converter for this op.\n",
      "WARNING:tensorflow:Using a while_loop for converting RngReadAndSkip cause there is no registered converter for this op.\n",
      "WARNING:tensorflow:Using a while_loop for converting Bitcast cause there is no registered converter for this op.\n",
      "WARNING:tensorflow:Using a while_loop for converting Bitcast cause there is no registered converter for this op.\n",
      "WARNING:tensorflow:Using a while_loop for converting StatelessRandomUniformV2 cause there is no registered converter for this op.\n",
      "WARNING:tensorflow:Using a while_loop for converting ImageProjectiveTransformV3 cause there is no registered converter for this op.\n",
      "WARNING:tensorflow:Using a while_loop for converting RngReadAndSkip cause there is no registered converter for this op.\n",
      "WARNING:tensorflow:Using a while_loop for converting Bitcast cause there is no registered converter for this op.\n",
      "WARNING:tensorflow:Using a while_loop for converting Bitcast cause there is no registered converter for this op.\n",
      "WARNING:tensorflow:Using a while_loop for converting StatelessRandomUniformFullIntV2 cause there is no registered converter for this op.\n",
      "WARNING:tensorflow:Using a while_loop for converting StatelessRandomGetKeyCounter cause there is no registered converter for this op.\n",
      "WARNING:tensorflow:Using a while_loop for converting StatelessRandomUniformV2 cause there is no registered converter for this op.\n",
      "WARNING:tensorflow:Using a while_loop for converting AdjustContrastv2 cause Input \"contrast_factor\" of op 'AdjustContrastv2' expected to be loop invariant.\n",
      "WARNING:tensorflow:Using a while_loop for converting RngReadAndSkip cause there is no registered converter for this op.\n",
      "WARNING:tensorflow:Using a while_loop for converting Bitcast cause there is no registered converter for this op.\n",
      "WARNING:tensorflow:Using a while_loop for converting Bitcast cause there is no registered converter for this op.\n",
      "WARNING:tensorflow:Using a while_loop for converting StatelessRandomUniformV2 cause there is no registered converter for this op.\n",
      "WARNING:tensorflow:Using a while_loop for converting ImageProjectiveTransformV3 cause there is no registered converter for this op.\n",
      "WARNING:tensorflow:Using a while_loop for converting RngReadAndSkip cause there is no registered converter for this op.\n",
      "WARNING:tensorflow:Using a while_loop for converting Bitcast cause there is no registered converter for this op.\n",
      "WARNING:tensorflow:Using a while_loop for converting Bitcast cause there is no registered converter for this op.\n",
      "WARNING:tensorflow:Using a while_loop for converting StatelessRandomUniformV2 cause there is no registered converter for this op.\n",
      "WARNING:tensorflow:Using a while_loop for converting ImageProjectiveTransformV3 cause there is no registered converter for this op.\n",
      "WARNING:tensorflow:Using a while_loop for converting RngReadAndSkip cause there is no registered converter for this op.\n",
      "WARNING:tensorflow:Using a while_loop for converting Bitcast cause there is no registered converter for this op.\n",
      "WARNING:tensorflow:Using a while_loop for converting Bitcast cause there is no registered converter for this op.\n",
      "WARNING:tensorflow:Using a while_loop for converting StatelessRandomUniformFullIntV2 cause there is no registered converter for this op.\n",
      "WARNING:tensorflow:Using a while_loop for converting StatelessRandomGetKeyCounter cause there is no registered converter for this op.\n",
      "WARNING:tensorflow:Using a while_loop for converting StatelessRandomUniformV2 cause there is no registered converter for this op.\n",
      "WARNING:tensorflow:Using a while_loop for converting AdjustContrastv2 cause Input \"contrast_factor\" of op 'AdjustContrastv2' expected to be loop invariant.\n",
      "80/80 [==============================] - 166s 2s/step - loss: 1.1304 - accuracy: 0.8035 - precision: 0.6249 - recall: 0.5355\n",
      "Epoch 2/20\n",
      "80/80 [==============================] - 163s 2s/step - loss: 0.4543 - accuracy: 0.8938 - precision: 0.7901 - recall: 0.7836\n",
      "Epoch 3/20\n",
      "80/80 [==============================] - 158s 2s/step - loss: 0.4316 - accuracy: 0.9082 - precision: 0.8191 - recall: 0.8121\n",
      "Epoch 4/20\n",
      "80/80 [==============================] - 164s 2s/step - loss: 0.4196 - accuracy: 0.9131 - precision: 0.8300 - recall: 0.8203\n",
      "Epoch 5/20\n",
      "80/80 [==============================] - 177s 2s/step - loss: 0.3672 - accuracy: 0.9257 - precision: 0.8529 - recall: 0.8492\n",
      "Epoch 6/20\n",
      "80/80 [==============================] - 194s 2s/step - loss: 0.5356 - accuracy: 0.8631 - precision: 0.7323 - recall: 0.7129\n",
      "Epoch 7/20\n",
      "80/80 [==============================] - 190s 2s/step - loss: 0.5342 - accuracy: 0.8615 - precision: 0.7282 - recall: 0.7117\n",
      "Epoch 8/20\n",
      "80/80 [==============================] - 206s 3s/step - loss: 0.4796 - accuracy: 0.8636 - precision: 0.7321 - recall: 0.7164\n",
      "Epoch 9/20\n",
      "80/80 [==============================] - 197s 2s/step - loss: 0.4727 - accuracy: 0.8741 - precision: 0.7507 - recall: 0.7434\n",
      "Epoch 10/20\n",
      "80/80 [==============================] - 208s 3s/step - loss: 0.3753 - accuracy: 0.9176 - precision: 0.8365 - recall: 0.8332\n",
      "Epoch 11/20\n",
      "80/80 [==============================] - 199s 2s/step - loss: 0.3579 - accuracy: 0.9214 - precision: 0.8451 - recall: 0.8395\n",
      "Epoch 12/20\n",
      "80/80 [==============================] - 213s 3s/step - loss: 0.3663 - accuracy: 0.9249 - precision: 0.8524 - recall: 0.8461\n",
      "Epoch 13/20\n",
      "80/80 [==============================] - 201s 3s/step - loss: 0.3338 - accuracy: 0.9263 - precision: 0.8541 - recall: 0.8504\n",
      "Epoch 14/20\n",
      "80/80 [==============================] - 203s 3s/step - loss: 0.3292 - accuracy: 0.9311 - precision: 0.8644 - recall: 0.8590\n",
      "Epoch 15/20\n",
      "80/80 [==============================] - 208s 3s/step - loss: 0.3882 - accuracy: 0.9183 - precision: 0.8385 - recall: 0.8336\n",
      "Epoch 16/20\n",
      "80/80 [==============================] - 192s 2s/step - loss: 0.4460 - accuracy: 0.9064 - precision: 0.8161 - recall: 0.8078\n",
      "Epoch 17/20\n",
      "80/80 [==============================] - 163s 2s/step - loss: 0.3680 - accuracy: 0.9269 - precision: 0.8552 - recall: 0.8516\n",
      "Epoch 18/20\n",
      "80/80 [==============================] - 165s 2s/step - loss: 0.3889 - accuracy: 0.9215 - precision: 0.8449 - recall: 0.8402\n",
      "Epoch 19/20\n",
      "80/80 [==============================] - 149s 2s/step - loss: 0.3370 - accuracy: 0.9280 - precision: 0.8565 - recall: 0.8555\n",
      "Epoch 20/20\n",
      "80/80 [==============================] - 200s 3s/step - loss: 0.3400 - accuracy: 0.9306 - precision: 0.8627 - recall: 0.8590\n"
     ]
    },
    {
     "data": {
      "text/plain": [
       "<keras.callbacks.History at 0x205775a0a90>"
      ]
     },
     "execution_count": 196,
     "metadata": {},
     "output_type": "execute_result"
    }
   ],
   "source": [
    "model.fit(X_train,y_train,epochs=20)"
   ]
  },
  {
   "cell_type": "code",
   "execution_count": 198,
   "id": "3fbc69f9-850b-45f0-b1a4-9fa5918a416d",
   "metadata": {},
   "outputs": [
    {
     "name": "stdout",
     "output_type": "stream",
     "text": [
      "20/20 [==============================] - 10s 457ms/step - loss: 0.3289 - accuracy: 0.9344 - precision: 0.8699 - recall: 0.8672\n"
     ]
    },
    {
     "data": {
      "text/plain": [
       "[0.3288800120353699, 0.934374988079071, 0.869905948638916, 0.8671875]"
      ]
     },
     "execution_count": 198,
     "metadata": {},
     "output_type": "execute_result"
    }
   ],
   "source": [
    "model.evaluate(X_test,y_test)"
   ]
  },
  {
   "cell_type": "code",
   "execution_count": 199,
   "id": "ef6c0491-37e7-4ded-8d6a-3cfcff93c7cc",
   "metadata": {},
   "outputs": [
    {
     "name": "stdout",
     "output_type": "stream",
     "text": [
      "20/20 [==============================] - 10s 470ms/step\n"
     ]
    }
   ],
   "source": [
    "y_predicted=model.predict(X_test)"
   ]
  },
  {
   "cell_type": "code",
   "execution_count": 200,
   "id": "e8ededd8-f959-4309-a2b2-689e9a24eec8",
   "metadata": {},
   "outputs": [
    {
     "data": {
      "text/plain": [
       "array([[1.08755447e-01, 8.90896082e-01, 2.80671907e-06, 3.45677137e-04],\n",
       "       [9.18778360e-01, 7.68029019e-02, 9.74351497e-05, 4.32123058e-03],\n",
       "       [4.70418036e-06, 4.42618600e-08, 8.88208160e-04, 9.99107063e-01],\n",
       "       [9.38525856e-01, 5.87822422e-02, 3.00946504e-05, 2.66183331e-03],\n",
       "       [6.15190074e-04, 9.99384761e-01, 1.10215285e-16, 6.86422932e-11]],\n",
       "      dtype=float32)"
      ]
     },
     "execution_count": 200,
     "metadata": {},
     "output_type": "execute_result"
    }
   ],
   "source": [
    "y_predicted[:5]"
   ]
  },
  {
   "cell_type": "code",
   "execution_count": 201,
   "id": "0eecbec5-2539-4800-8284-5f308b1afaa9",
   "metadata": {},
   "outputs": [],
   "source": [
    "y_predicted=[np.argmax(i) for i in y_predicted]"
   ]
  },
  {
   "cell_type": "code",
   "execution_count": 202,
   "id": "94e0aba5-282b-49e4-9a67-4e0ef4803ad1",
   "metadata": {},
   "outputs": [
    {
     "data": {
      "text/plain": [
       "[1, 0, 3, 0, 1]"
      ]
     },
     "execution_count": 202,
     "metadata": {},
     "output_type": "execute_result"
    }
   ],
   "source": [
    "y_predicted[:5]"
   ]
  },
  {
   "cell_type": "code",
   "execution_count": 203,
   "id": "d9d63b5b-b239-4c91-99c2-9d0d9ff859cc",
   "metadata": {},
   "outputs": [
    {
     "data": {
      "text/plain": [
       "array([[0., 1., 0., 0.],\n",
       "       [1., 0., 0., 0.],\n",
       "       [0., 0., 0., 1.],\n",
       "       [1., 0., 0., 0.],\n",
       "       [0., 1., 0., 0.]], dtype=float32)"
      ]
     },
     "execution_count": 203,
     "metadata": {},
     "output_type": "execute_result"
    }
   ],
   "source": [
    "y_test[:5]"
   ]
  },
  {
   "cell_type": "code",
   "execution_count": 204,
   "id": "9631a740-88f5-4251-892c-195cb9fa37a0",
   "metadata": {},
   "outputs": [],
   "source": [
    "y_test=[np.argmax(i) for i in y_test]"
   ]
  },
  {
   "cell_type": "code",
   "execution_count": 205,
   "id": "f7a27cf2-f3e6-413b-856f-3b35b85f5e6d",
   "metadata": {},
   "outputs": [
    {
     "data": {
      "text/plain": [
       "[1, 0, 3, 0, 1]"
      ]
     },
     "execution_count": 205,
     "metadata": {},
     "output_type": "execute_result"
    }
   ],
   "source": [
    "y_test[:5]"
   ]
  },
  {
   "cell_type": "code",
   "execution_count": 207,
   "id": "79dd6ef6-f343-412f-ae8f-8c35e150014a",
   "metadata": {},
   "outputs": [
    {
     "name": "stdout",
     "output_type": "stream",
     "text": [
      "              precision    recall  f1-score   support\n",
      "\n",
      "           0       0.97      0.86      0.91       182\n",
      "           1       0.86      0.98      0.91       140\n",
      "           2       0.95      0.77      0.85       197\n",
      "           3       0.70      0.93      0.80       121\n",
      "\n",
      "    accuracy                           0.87       640\n",
      "   macro avg       0.87      0.88      0.87       640\n",
      "weighted avg       0.89      0.87      0.87       640\n",
      "\n"
     ]
    }
   ],
   "source": [
    "print(classification_report(y_predicted,y_test))"
   ]
  },
  {
   "cell_type": "code",
   "execution_count": 208,
   "id": "9599a4b1-094a-43c4-99b0-8442c92b8964",
   "metadata": {},
   "outputs": [
    {
     "data": {
      "text/plain": [
       "array([[156,  23,   0,   3],\n",
       "       [  3, 137,   0,   0],\n",
       "       [  0,   0, 152,  45],\n",
       "       [  1,   0,   8, 112]], dtype=int64)"
      ]
     },
     "execution_count": 208,
     "metadata": {},
     "output_type": "execute_result"
    }
   ],
   "source": [
    "cm=confusion_matrix(y_predicted,y_test)\n",
    "cm"
   ]
  },
  {
   "cell_type": "code",
   "execution_count": 212,
   "id": "c441a84a-5199-4579-a7c1-a870b27be75e",
   "metadata": {},
   "outputs": [
    {
     "data": {
      "image/png": "[encoded data removed]",
      "text/plain": [
       "<Figure size 648x504 with 2 Axes>"
      ]
     },
     "metadata": {
      "needs_background": "light"
     },
     "output_type": "display_data"
    }
   ],
   "source": [
    "plt.figure(figsize=(9,7))\n",
    "sns.heatmap(cm,annot=True,annot_kws={'size':17},fmt='d',cmap='Blues')\n",
    "plt.title('Confusion Matrix')\n",
    "plt.xlabel('Predicted')\n",
    "plt.ylabel('Truth')\n",
    "plt.show()"
   ]
  }
 ],
 "metadata": {
  "kernelspec": {
   "display_name": "Python 3 (ipykernel)",
   "language": "python",
   "name": "python3"
  },
  "language_info": {
   "codemirror_mode": {
    "name": "ipython",
    "version": 3
   },
   "file_extension": ".py",
   "mimetype": "text/x-python",
   "name": "python",
   "nbconvert_exporter": "python",
   "pygments_lexer": "ipython3",
   "version": "3.10.5"
  }
 },
 "nbformat": 4,
 "nbformat_minor": 5
}
